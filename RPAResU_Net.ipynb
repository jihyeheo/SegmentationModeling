{
 "cells": [
  {
   "cell_type": "markdown",
   "metadata": {
    "id": "_x6UfLeemr0y"
   },
   "source": [
    "# 🔥포스🔥\n",
    "\n",
    "### 위 게시글을 시리즈물📖입니다.  \n",
    "**[1편. OpenCV의 기초, Numpy와 Matplotlib](https://dacon.io/codeshare/4768?page=1&dtype=recent)**<br>\n",
    "**[2편. OpenCV 기초(이미지 입출력, 그리기, 창 관리, 이벤트 처리 등)](https://dacon.io/codeshare/4837?page=1&dtype=recent)**<br>\n",
    "**[3편. 이미지 프로세싱(컬러 스페이스, 스레시홀딩, 이미지 연산, 히스토그램)](https://dacon.io/codeshare/4858?page=1&dtype=recent)**<br>\n",
    "**[4편. OpenCV 기하학적 변환](https://dacon.io/codeshare/4875?page=1&dtype=recent)**<br>\n",
    "**[5편. OpenCV 영상필터](https://dacon.io/codeshare/4898?page=1&dtype=recent)**<br>\n",
    "**[프로젝트1편. Multi-Hand Gesture Recognition(1)](https://dacon.io/codeshare/4956?page=1&dtype=recent)**<br>\n",
    "**[프로젝트2편. Multi-Hand Gesture Recognition(2)](https://dacon.io/codeshare/5006?page=1&dtype=recent)**<br>\n",
    "**[6편. OpenCV 영상분할](https://dacon.io/codeshare/5072?page=1&dtype=recent&fType=)**<br>\n",
    "**[7편. OpenCV 영상매칭과 추척](https://dacon.io/codeshare/5106)**<br>\n",
    "**[8편. OpenCV과 머신러닝편(1)(K-means, K-NN, SVM)](https://dacon.io/codeshare/5146?page=1&dtype=recent&fType=)**    \n",
    "**[8편.OpenCV과 머신러닝편(2)(HOG, BOW, 케스케이드 분류기)](https://dacon.io/codeshare/5179)**\n",
    "\n",
    "\n",
    "\n",
    "<br>\n",
    "<br>\n",
    "\n",
    "**프로젝트 게시글**<br>\n",
    "**[프로젝트 1편. Segmentation Modeling(1) (U-Net, OpenCV 적용)](https://dacon.io/codeshare/5185)**<br>\n",
    "**[프로젝트 2편. Segmentation Modeling(1) (ResU-Net, OpenCV 적용)](https://dacon.io/codeshare/5186?page=1&dtype=recent&fType=)**\n",
    "\n",
    "* 안녕하세요 :) 데이크루 2기 *포스팀*입니다!\n",
    "* 저희 마지막 프로젝트 게시글에 들어와주셔서 감사합니다!\n",
    "* 이제 정말 마지막 게시글이네요! 마지막까지 많은 관심 부탁드려용 ~"
   ]
  },
  {
   "cell_type": "markdown",
   "metadata": {
    "id": "IW41pVkJmvB4"
   },
   "source": [
    "주제는!!! 동일하게,\n",
    "\n",
    "✨\n",
    "## **Segmentation Modeling(분할 모델링)**\n",
    "✨\n",
    "\n",
    "\n",
    "가장 어려운 모형에 대하여 공부해보겠습니다! 얘는 인터넷에 설명도 잘 안 나와있어요..!"
   ]
  },
  {
   "cell_type": "markdown",
   "metadata": {
    "id": "GkYHAjibmyQW"
   },
   "source": [
    "## 목차\n",
    "\n",
    "### 1) RPA_ResU-NET 이란?\n",
    "### 2) 데이터 설명\n",
    "### 3) Code\n",
    "#### 3-1) Data Augmentation 적용 x\n",
    "#### 3-2) 논문 Data Augmentation 적용 o\n",
    "#### 3-3) OpenCV 적용\n",
    "### 4) 결론\n",
    "\n",
    "# 그럼 시작합니다 ~:)\n"
   ]
  },
  {
   "cell_type": "markdown",
   "metadata": {
    "id": "OIfxMOktnCSV"
   },
   "source": [
    "### 1) RPA_ResU-Net : Refined Position of Attention network for ResUNet\n",
    "\n",
    "#### 1-1) ASPP\n",
    "- ResU-Net과 마찬가지로 deep convolution network는 layer를 쌓아감에 있어서,layer가 깊어질수록 feature map의 size가 줄어들고 detail한 feature를 추출하기 어려워집니다.\n",
    "\n",
    "- 기존의 **spatial pyramid pooling network**에서 각 convolution을 atrous convolution으로 변환하여 여러개의 확대된 receptive field를 가진 filter를 합쳐 feature를 추출하기위한 범위를 넓혀주었습니다."
   ]
  },
  {
   "cell_type": "code",
   "execution_count": null,
   "metadata": {},
   "outputs": [],
   "source": [
    "import torch\n",
    "import torch.nn as nn\n",
    "\n",
    "class ASPP(nn.Module):\n",
    "    def __init__(self, in_dims, out_dims, rate=[6, 12, 18]):\n",
    "        super(ASPP, self).__init__()\n",
    "        \n",
    "        self.aspp_block1 = nn.Sequential(\n",
    "            nn.Conv2d(\n",
    "                in_dims, out_dims, 3, stride=1, padding=rate[0], dilation=rate[0]\n",
    "            ),\n",
    "            nn.ReLU(inplace=True),\n",
    "            nn.BatchNorm2d(out_dims),\n",
    "        )\n",
    "        self.aspp_block2 = nn.Sequential(\n",
    "            nn.Conv2d(\n",
    "                in_dims, out_dims, 3, stride=1, padding=rate[1], dilation=rate[1]\n",
    "            ),\n",
    "            nn.ReLU(inplace=True),\n",
    "            nn.BatchNorm2d(out_dims),\n",
    "        )\n",
    "        self.aspp_block3 = nn.Sequential(\n",
    "            nn.Conv2d(\n",
    "                in_dims, out_dims, 3, stride=1, padding=rate[2], dilation=rate[2]\n",
    "            ),\n",
    "            nn.ReLU(inplace=True),\n",
    "            nn.BatchNorm2d(out_dims),\n",
    "        )\n",
    "\n",
    "        self.output = nn.Conv2d(len(rate) * out_dims, out_dims, 1)\n",
    "        self._init_weights()\n",
    "\n",
    "    def forward(self, x):\n",
    "        x1 = self.aspp_block1(x)\n",
    "        x2 = self.aspp_block2(x)\n",
    "        x3 = self.aspp_block3(x)\n",
    "        out = torch.cat([x1, x2, x3], dim=1)\n",
    "        return self.output(out)\n",
    "\n",
    "    def _init_weights(self):\n",
    "        for m in self.modules():\n",
    "            if isinstance(m, nn.Conv2d):\n",
    "                nn.init.kaiming_normal_(m.weight)\n",
    "            elif isinstance(m, nn.BatchNorm2d):\n",
    "                m.weight.data.fill_(1)\n",
    "                m.bias.data.zero_()"
   ]
  },
  {
   "cell_type": "markdown",
   "metadata": {},
   "source": [
    "#### 1-2) Attention network\n",
    "\n",
    "- Attention은 특정 model이 집중해야할 부분에 더 중요도를 두고 학습을하도록 도와주는 module입니다. convolution operation은 channel, spatial information으로 feature를 추출합니다. \n",
    "- 기존의 attention은 \"where\", 즉 어디에 집중해야하는지에 초점을 맞추었다면, 이번에 적용할 CBAM에서 사용된 spatial attention과 channel attention은 각각 **\"where\"(어디에 집중)**과 **\"what\"(무엇에 집중)**에 대해 집중하며 서로 보완적이고, 이들은 서로 학습을 돕습니다.\n",
    "\n",
    "- 이 중에서도 **Spatial Attention**은 average pooling과 max pooling을 channel axis로 수행. (1xHxW) 합니다. channel axis로 수행한 pooling -> spatial information을 강조합니다.\n",
    "\n",
    "- **Channel Attention**은 Channel에 대한 집중을 돕기위해 max pooling을 동시에 사용하여 병렬로 연결합니다."
   ]
  },
  {
   "cell_type": "code",
   "execution_count": 1,
   "metadata": {
    "id": "wpSQPy7VqiGp"
   },
   "outputs": [],
   "source": [
    "class SpatialAttention(nn.Module):\n",
    "    def __init__(self, kernel_size=7):\n",
    "        super(SpatialAttention, self).__init__()\n",
    "\n",
    "        self.conv1 = nn.Conv2d(2, 1, kernel_size, padding=kernel_size//2, bias=False)\n",
    "        self.sigmoid = nn.Sigmoid()\n",
    "\n",
    "    def forward(self, x):\n",
    "        avg_out = torch.mean(x, dim=1, keepdim=True)\n",
    "        max_out, _ = torch.max(x, dim=1, keepdim=True)\n",
    "        x = torch.cat([avg_out, max_out], dim=1)\n",
    "        x = self.conv1(x)\n",
    "        return self.sigmoid(x)\n",
    "                \n",
    "class ChannelAttention(nn.Module):\n",
    "    def __init__(self, in_planes, ratio=16):\n",
    "        super(ChannelAttention, self).__init__()\n",
    "        self.avg_pool = nn.AdaptiveAvgPool2d(1)\n",
    "        self.max_pool = nn.AdaptiveMaxPool2d(1)\n",
    "           \n",
    "        self.fc = nn.Sequential(nn.Conv2d(in_planes, in_planes // 16, 1, bias=False),\n",
    "                               nn.ReLU(),\n",
    "                               nn.Conv2d(in_planes // 16, in_planes, 1, bias=False))\n",
    "        self.sigmoid = nn.Sigmoid()\n",
    "\n",
    "    def forward(self, x):\n",
    "        avg_out = self.fc(self.avg_pool(x))\n",
    "        max_out = self.fc(self.max_pool(x))\n",
    "        out = avg_out + max_out\n",
    "        return self.sigmoid(out)"
   ]
  },
  {
   "cell_type": "markdown",
   "metadata": {},
   "source": [
    "#### 1-3) RPA_ResU-Net\n",
    "- spatial attention을 encoder의 input block, channel attention을 encoder의 final block에 위치시킵니다. ASPP는 UNet++ 및 double UNet에서 encoder-decoder structure의\n",
    "bridge에 사용하여 그대로 차용합니다.\n",
    "- 이때, 해당 class에 없는 코드는 ResU-Net과 동일합니다.\n"
   ]
  },
  {
   "cell_type": "code",
   "execution_count": null,
   "metadata": {},
   "outputs": [],
   "source": [
    "class ResidualBlock(nn.Module):\n",
    "    def __init__(self, in_channels, out_channels, stride, padding):\n",
    "        super(ResidualBlock, self).__init__()\n",
    "        self.conv_block = nn.Sequential(\n",
    "            nn.BatchNorm2d(in_channels),\n",
    "            nn.ReLU(),\n",
    "            nn.Conv2d(in_channels=in_channels, out_channels=out_channels, kernel_size=3, stride=stride, padding=padding),\n",
    "            nn.BatchNorm2d(out_channels),\n",
    "            nn.ReLU(),\n",
    "            nn.Conv2d(in_channels=out_channels, out_channels=out_channels, kernel_size=3, stride=1, padding=1),\n",
    "        )\n",
    "        self.shortcut = nn.Sequential(\n",
    "            nn.Conv2d(in_channels=in_channels, out_channels=out_channels, kernel_size=3, stride=stride, padding=1),\n",
    "        ) \n",
    "    \n",
    "    def forward(self, inputs):\n",
    "        r = self.conv_block(inputs)\n",
    "        s = self.shortcut(inputs)\n",
    "        \n",
    "        skip = r + s\n",
    "        return skip\n",
    "    \n",
    "class RPAResUNet(nn.Module):\n",
    "    def __init__(self, num_classes):\n",
    "        super(RPAResUNet, self).__init__()\n",
    "        self.num_classes = num_classes\n",
    "        \n",
    "        \"\"\" Input block -> residual layer \"\"\"\n",
    "        self.residual_1_a = self.input_block(in_channels=3, out_channels=32)\n",
    "        self.residual_1_b = self.input_skip(in_channels=3, out_channels=32)\n",
    "        # input block -> spatial attention\n",
    "        self.spatial_attention = SpatialAttention()\n",
    "        \n",
    "        \"\"\" Residual block x 3, Encoding \"\"\"\n",
    "        self.residual_2 = ResidualBlock(32, 64, 2, 1)\n",
    "        self.residual_3 = ResidualBlock(64, 128, 2, 1)\n",
    "        self.residual_4 = ResidualBlock(128, 256, 2, 1)\n",
    "        \n",
    "        \"\"\" Bridge block, ASPP \"\"\"\n",
    "        # 3 -> 32, 1024 -> 512, computation cost\n",
    "        self.bridge_aspp = ASPP(256, 512)\n",
    "        \n",
    "        \"\"\" Last Encoder layer <- channel attention \"\"\"\n",
    "        self.channel_attention = ChannelAttention(512)\n",
    "        \n",
    "        \"\"\" Residual block x3, Decoding 1st block \"\"\"\n",
    "        # upsample out_feature 512 -> 256 ?\n",
    "        self.upsample_block_1 = nn.ConvTranspose2d(in_channels=512, out_channels=512, \n",
    "                                          kernel_size=2, stride=2, padding=0)\n",
    "        self.residual_5 = ResidualBlock(512+128, 256, 1, 1) # upsampling + residual_3\n",
    "        \n",
    "        \"\"\" 2nd Residual block, Decoder \"\"\"\n",
    "        self.upsample_block_2 = nn.ConvTranspose2d(in_channels=256, out_channels=256, \n",
    "                                          kernel_size=2, stride=2, padding=0)\n",
    "        self.residual_6 = ResidualBlock(256+64, 128, 1, 1)\n",
    "        \n",
    "        \"\"\" 3rd Residual block, Decoder \"\"\"\n",
    "        self.upsample_block_3 = nn.ConvTranspose2d(in_channels=128, out_channels=128, \n",
    "                                          kernel_size=2, stride=2, padding=0)\n",
    "        self.residual_7 = ResidualBlock(128+32, 64, 1, 1)\n",
    "        \n",
    "        \"\"\" output block \"\"\"\n",
    "        self.output_aspp = ASPP(64, 32)\n",
    "        self.output = nn.Sequential(\n",
    "          nn.Conv2d(in_channels=32, out_channels=num_classes, kernel_size=1),\n",
    "          nn.Sigmoid(),\n",
    "        )\n",
    "        \n",
    "    def input_block(self, in_channels, out_channels):\n",
    "        block = nn.Sequential(nn.Conv2d(in_channels=in_channels, out_channels=out_channels, kernel_size=3, stride=1, padding=1),\n",
    "                                    nn.BatchNorm2d(num_features=out_channels),\n",
    "                                    nn.ReLU(),\n",
    "                                    nn.Conv2d(in_channels=out_channels, out_channels=out_channels, kernel_size=3, stride=1, padding=1),\n",
    "                                    )\n",
    "        return block\n",
    "    \n",
    "    def input_skip(self, in_channels, out_channels):\n",
    "        skip = nn.Conv2d(in_channels=in_channels, out_channels=out_channels, kernel_size=3, stride=1, padding=1)\n",
    "        return skip \n",
    "\n",
    "    def forward(self, X):\n",
    "        residual_1_a_out = self.residual_1_a(X)\n",
    "        residual_1_b_out = self.residual_1_b(X)\n",
    "        residual_1_out = residual_1_a_out + residual_1_b_out\n",
    "        spatial_attention_out = self.spatial_attention(residual_1_out) * residual_1_out\n",
    "        \n",
    "        residual_2_out = self.residual_2(spatial_attention_out)\n",
    "        residual_3_out = self.residual_3(residual_2_out)\n",
    "        residual_4_out = self.residual_4(residual_3_out)\n",
    "        \n",
    "        bridge_aspp_a = self.bridge_aspp(residual_4_out)\n",
    "        channel_attention_out = self.channel_attention(bridge_aspp_a) * bridge_aspp_a\n",
    "        \n",
    "        \"\"\" decoder block without attention modules \"\"\"\n",
    "        \n",
    "        upsample_1_out = self.upsample_block_1(channel_attention_out)\n",
    "        residual_5_out = self.residual_5(torch.cat((upsample_1_out, residual_3_out), dim=1))\n",
    "        \n",
    "        upsample_2_out = self.upsample_block_2(residual_5_out)\n",
    "        residual_6_out = self.residual_6(torch.cat((upsample_2_out, residual_2_out), dim=1))\n",
    "        \n",
    "        upsample_3_out = self.upsample_block_3(residual_6_out)\n",
    "        residual_7_out = self.residual_7(torch.cat((upsample_3_out, residual_1_out), dim=1))\n",
    "        \n",
    "        output_aspp_b = self.output_aspp(residual_7_out)\n",
    "        out = self.output(output_aspp_b)\n",
    "        return out\n",
    "        \n",
    "model = RPAResUNet(num_classes=1)\n",
    "#print(model)"
   ]
  },
  {
   "cell_type": "markdown",
   "metadata": {},
   "source": [
    "### 사용한 판단 척도\n",
    "\n",
    "위 게시글에서 판단 척도로는 loss값과 IoU값이 있습니다. IoU값의 식은 **(두 이미지의 교집합)/(두 이미지의 합집합)** 으로 나타낼 수 있습니다.\n",
    "\n",
    "아래는 구현한 식 입니다."
   ]
  },
  {
   "cell_type": "code",
   "execution_count": 2,
   "metadata": {
    "id": "zgPQgbkqtrFW"
   },
   "outputs": [],
   "source": [
    "def iou(pred, target, n_classes = 2):\n",
    "    \n",
    "    iou = []\n",
    "    pred = pred.view(-1)\n",
    "    target = target.view(-1)\n",
    "\n",
    "    # Ignore IoU for background class (\"0\")\n",
    "    for cls in range(1, n_classes):\n",
    "        pred_inds = pred == cls\n",
    "        target_inds = target == cls\n",
    "        intersection = (pred_inds[target_inds]).long().sum().data.cpu().item()\n",
    "        union = pred_inds.long().sum().data.cpu().item() + target_inds.long().sum().data.cpu().item() - intersection\n",
    "\n",
    "        if union == 0:\n",
    "            iou.append(float('nan'))  # If there is no ground truth, do not include in evaluation\n",
    "        else:\n",
    "            iou.append(float(intersection) / float(max(union, 1)))\n",
    "\n",
    "    return sum(iou)"
   ]
  },
  {
   "cell_type": "code",
   "execution_count": 3,
   "metadata": {
    "id": "V5u-Sou5nsNX"
   },
   "outputs": [],
   "source": [
    "def iou_metric(y_pred, y_true, n_classes = 2):\n",
    "    miou = []\n",
    "    for i in np.arange(0.5, 1.0, 0.05):\n",
    "        y_pred_ = (y_pred > i)\n",
    "        iou_init = iou(y_pred_, y_true, n_classes = n_classes)\n",
    "        miou.append(iou_init)\n",
    "    \n",
    "    return sum(miou)/len(miou)"
   ]
  },
  {
   "cell_type": "markdown",
   "metadata": {
    "id": "wpTQhthcnvnA"
   },
   "source": [
    "### 2) 데이터 설명\n",
    "\n",
    "이전 게시글에서 했던 데이터와 동일한 데이터를 사용하였습니다. 데이터 출처는 https://www.kaggle.com/competitions/data-science-bowl-2018 입니다.\n",
    "\n",
    "- /stage1_train/* : train 세트 이미지 (images and annotated masks)  \n",
    "- /stage1_test/* : test 이미지 (images only, you are predicting the masks)"
   ]
  },
  {
   "cell_type": "markdown",
   "metadata": {
    "id": "x5-T247qnxC5"
   },
   "source": [
    "### 3) Code"
   ]
  },
  {
   "cell_type": "markdown",
   "metadata": {
    "id": "_iXLNWlFn1KA"
   },
   "source": [
    "구글 드라이브 연동"
   ]
  },
  {
   "cell_type": "code",
   "execution_count": 4,
   "metadata": {
    "colab": {
     "base_uri": "https://localhost:8080/"
    },
    "id": "uTyyKZ4VqoAT",
    "outputId": "bd2027e7-be64-4984-eef4-da1d06a8f60a"
   },
   "outputs": [
    {
     "name": "stdout",
     "output_type": "stream",
     "text": [
      "Mounted at /content/drive\n"
     ]
    }
   ],
   "source": [
    "from google.colab import drive\n",
    "drive.mount('/content/drive')"
   ]
  },
  {
   "cell_type": "markdown",
   "metadata": {
    "id": "EWzQTBLLn8YW"
   },
   "source": [
    "패키지 불러오기"
   ]
  },
  {
   "cell_type": "code",
   "execution_count": 5,
   "metadata": {
    "id": "tfQa2p4Bq6T1"
   },
   "outputs": [],
   "source": [
    "from grpc import Channel\n",
    "\n",
    "import os\n",
    "import random\n",
    "from pickletools import optimize\n",
    "from cv2 import transform\n",
    "from matplotlib.pyplot import axis\n",
    "from sklearn.model_selection import train_test_split\n",
    "import torchvision.transforms.functional as TF\n",
    "\n",
    "import torch\n",
    "import torch.nn as nn\n",
    "import torch.nn.functional as F\n",
    "import torch.optim as optim\n",
    "import torch.utils.data\n",
    "from torch.utils.data import Dataset, DataLoader\n",
    "from torchvision import transforms\n",
    "import cv2\n",
    "from skimage import io, transform\n",
    "from skimage.io import imread\n",
    "import shutil\n",
    "\n",
    "import numpy as np\n",
    "import matplotlib.pyplot as plt"
   ]
  },
  {
   "cell_type": "markdown",
   "metadata": {
    "id": "r7zpxjPDoAin"
   },
   "source": [
    "시드 고정"
   ]
  },
  {
   "cell_type": "code",
   "execution_count": 6,
   "metadata": {
    "id": "XX4mhOGbrAKm"
   },
   "outputs": [],
   "source": [
    "def seed_everything(seed):\n",
    "    random.seed(seed)\n",
    "    os.environ['PYTHONHASHSEED'] = str(seed)\n",
    "    np.random.seed(seed)\n",
    "    torch.manual_seed(seed)\n",
    "    torch.cuda.manual_seed(seed)\n",
    "    torch.backends.cudnn.deterministic = True\n",
    "    torch.backends.cudnn.benchmark = True\n",
    "\n",
    "seed_everything(42)"
   ]
  },
  {
   "cell_type": "markdown",
   "metadata": {
    "id": "y6HaiqWioCpU"
   },
   "source": [
    "GPU 설정"
   ]
  },
  {
   "cell_type": "code",
   "execution_count": 7,
   "metadata": {
    "id": "EqeZAHbPtCTi"
   },
   "outputs": [],
   "source": [
    "device = torch.device('cuda:0' if torch.cuda.is_available() else 'cpu')\n",
    "# device = \"cpu\""
   ]
  },
  {
   "cell_type": "markdown",
   "metadata": {
    "id": "44PJkf04oCx6"
   },
   "source": [
    "필요한 파라미터 설정"
   ]
  },
  {
   "cell_type": "code",
   "execution_count": 8,
   "metadata": {
    "id": "5dPFiLL_tC54"
   },
   "outputs": [],
   "source": [
    "IMG_WIDTH = 128\n",
    "IMG_HEIGHT = 128\n",
    "IMG_CHANNELS = 3\n",
    "width_out = 128\n",
    "height_out = 128"
   ]
  },
  {
   "cell_type": "code",
   "execution_count": 1,
   "metadata": {
    "colab": {
     "base_uri": "https://localhost:8080/"
    },
    "id": "Ast-rXZ0qzEE",
    "outputId": "20885227-5eb5-4ccb-fef9-2d862d419073"
   },
   "outputs": [],
   "source": [
    "# %cd (자신의 경로)"
   ]
  },
  {
   "cell_type": "markdown",
   "metadata": {
    "id": "stjtT3t1oh4w"
   },
   "source": [
    "데이터 ZIP 파일 풀어주기"
   ]
  },
  {
   "cell_type": "code",
   "execution_count": null,
   "metadata": {
    "id": "a4Xo_S4iohO5"
   },
   "outputs": [],
   "source": [
    "#!unzip dataset.zip"
   ]
  },
  {
   "cell_type": "code",
   "execution_count": 10,
   "metadata": {
    "colab": {
     "base_uri": "https://localhost:8080/"
    },
    "id": "hJKgzbnqq2C6",
    "outputId": "c6dd5de9-f0d5-4bc3-9ecc-3497de372c64"
   },
   "outputs": [
    {
     "name": "stdout",
     "output_type": "stream",
     "text": [
      " dataset       ResU_Net_transformation_O.ipynb\t unet-iou-cvc.pt   x_train.npy\n",
      " dataset.zip   RPAResU_Net.ipynb\t\t U_net.ipynb\t   y_train.npy\n",
      " __MACOSX     'Unet (1).ipynb'\t\t\t Unet.ipynb\n"
     ]
    }
   ],
   "source": [
    "!ls"
   ]
  },
  {
   "cell_type": "markdown",
   "metadata": {
    "id": "EKw8K0ivonFE"
   },
   "source": [
    "데이터 불러오기"
   ]
  },
  {
   "cell_type": "markdown",
   "metadata": {},
   "source": [
    "- 이전 게시글에서 만들었던 numpy array를 이용해서 바로 진행하겠습니다! 따라서 저번에 만들었던 npy파일을 불러옵니다."
   ]
  },
  {
   "cell_type": "code",
   "execution_count": 23,
   "metadata": {
    "id": "alBz55Gq0wrV"
   },
   "outputs": [],
   "source": [
    "x_train = np.load(\"x_train.npy\")\n",
    "y_train = np.load(\"y_train.npy\")"
   ]
  },
  {
   "cell_type": "code",
   "execution_count": null,
   "metadata": {
    "id": "9mLr-C78tK8C"
   },
   "outputs": [],
   "source": [
    "for i, id_ in enumerate(train_ids):\n",
    "    path = TRAIN_PATH + id_\n",
    "    img = cv2.imread(path+'/images/'+id_+'.png')\n",
    "    img = cv2.resize(img, (IMG_HEIGHT, IMG_WIDTH))\n",
    "    x_train[i] = img\n",
    "\n",
    "    mask = np.zeros((height_out, width_out, 1), dtype=bool)\n",
    "    mask_path = path+'/masks/'\n",
    "    for id_ in os.listdir(mask_path):\n",
    "        mask_ = cv2.imread(mask_path+id_, 0)\n",
    "        mask_ = cv2.resize(mask_, (height_out, width_out))\n",
    "        mask_ = np.expand_dims(mask_, axis=-1)\n",
    "        mask = np.maximum(mask, mask_)\n",
    "    y_train[i] = mask"
   ]
  },
  {
   "cell_type": "markdown",
   "metadata": {
    "id": "8jOMAFmKsMf2"
   },
   "source": [
    "### 1) **Data Augmentation 없이 학습**\n",
    "\n",
    "- 첫번째로 별도의 과정 없이 기본 이미지만을 가지고 학습을 시키고 결론을 내어보겠습니다! "
   ]
  },
  {
   "cell_type": "markdown",
   "metadata": {
    "id": "psgVD9_qsDep"
   },
   "source": [
    "custom dataset인 ResUNETDataset class 정의"
   ]
  },
  {
   "cell_type": "code",
   "execution_count": 24,
   "metadata": {
    "id": "LzV7pv-xsEEo"
   },
   "outputs": [],
   "source": [
    "class ResUNetDataset(Dataset):\n",
    "    def __init__(self, images_np, masks_np):\n",
    "        self.images_np = images_np\n",
    "        self.masks_np = masks_np\n",
    "    \n",
    "    def transform(self, image_np, mask_np):\n",
    "        ToPILImage = transforms.ToPILImage()\n",
    "        image = ToPILImage(image_np)\n",
    "        mask = ToPILImage(mask_np.astype(np.int32))\n",
    "        \n",
    "        image = TF.to_tensor(image)\n",
    "        mask = TF.to_tensor(mask)\n",
    "        return image, mask\n",
    "        \n",
    "    def __len__(self):\n",
    "        return len(self.images_np)\n",
    "    \n",
    "    def __getitem__(self, idx):\n",
    "        image_np = self.images_np[idx]\n",
    "        mask_np = self.masks_np[idx]\n",
    "        image, mask = self.transform(image_np, mask_np)\n",
    "        \n",
    "        return image, mask"
   ]
  },
  {
   "cell_type": "markdown",
   "metadata": {
    "id": "RHeyrLfKsyyt"
   },
   "source": [
    "tensor로 변환된 데이터를 이용한 DataLoader 생성"
   ]
  },
  {
   "cell_type": "code",
   "execution_count": 28,
   "metadata": {
    "id": "5b4DWDLNszRp"
   },
   "outputs": [],
   "source": [
    "x_train, x_val, y_train, y_val = train_test_split(x_train, y_train, test_size=0.25)\n",
    "train_dataset = ResUNetDataset(x_train, y_train)\n",
    "train_loader = DataLoader(train_dataset, batch_size=16, shuffle=True)\n",
    "valid_dataset = ResUNetDataset(x_val, y_val)\n",
    "valid_loader = DataLoader(valid_dataset, batch_size=8, shuffle=False)"
   ]
  },
  {
   "cell_type": "markdown",
   "metadata": {
    "id": "y0k5KCpOtGov"
   },
   "source": [
    "앞서 봤던 RPA-ResU-NET 정의"
   ]
  },
  {
   "cell_type": "code",
   "execution_count": 29,
   "metadata": {
    "id": "a7jlo-U7tHNo"
   },
   "outputs": [],
   "source": [
    "model = RPAResUNet(num_classes=1).to(device)"
   ]
  },
  {
   "cell_type": "markdown",
   "metadata": {
    "id": "GZ5I3mRWtMAM"
   },
   "source": [
    "parameter 정의\n",
    "- RPAResUNet 경우 epoch=25로 Train 했을 시 상당한 시간이 소모되어 편의상 **epoch=5**로 실험하였습니다."
   ]
  },
  {
   "cell_type": "code",
   "execution_count": 30,
   "metadata": {
    "id": "2AhPreI8tQHe"
   },
   "outputs": [],
   "source": [
    "epochs=5\n",
    "alpha=5\n",
    "batch_size = 16\n",
    "criterion=nn.BCEWithLogitsLoss()\n",
    "optimizer = optim.Adam(model.parameters(), lr=1e-3)"
   ]
  },
  {
   "cell_type": "markdown",
   "metadata": {
    "id": "2ZLTjNBZtRYC"
   },
   "source": [
    "Train"
   ]
  },
  {
   "cell_type": "code",
   "execution_count": 31,
   "metadata": {
    "colab": {
     "base_uri": "https://localhost:8080/"
    },
    "id": "X2pD5iSNtX71",
    "outputId": "a77c2c30-0fae-43b3-c847-86742fbec5ed"
   },
   "outputs": [
    {
     "name": "stdout",
     "output_type": "stream",
     "text": [
      "Epoch  1  Training Loss:  tensor(0.7907, grad_fn=<DivBackward0>) Validation Loss:  tensor(0.7399)\n",
      "Training IoU:  0.16289421777380284 Validation IoU:  0.011174224428376773\n",
      "Epoch  2  Training Loss:  tensor(0.7364, grad_fn=<DivBackward0>) Validation Loss:  tensor(0.7836)\n",
      "Training IoU:  0.23649703380224893 Validation IoU:  0.23544798637459152\n",
      "Epoch  3  Training Loss:  tensor(0.7083, grad_fn=<DivBackward0>) Validation Loss:  tensor(0.6931)\n",
      "Training IoU:  0.42935843990939304 Validation IoU:  0.2997049804886628\n",
      "Epoch  4  Training Loss:  tensor(0.6749, grad_fn=<DivBackward0>) Validation Loss:  tensor(0.6755)\n",
      "Training IoU:  0.5931483202009239 Validation IoU:  0.3470908325702785\n",
      "Epoch  5  Training Loss:  tensor(0.6715, grad_fn=<DivBackward0>) Validation Loss:  tensor(0.7104)\n",
      "Training IoU:  0.5718807010530412 Validation IoU:  0.4518637712180266\n",
      "Mean IoU:  31.435191204977116\n"
     ]
    }
   ],
   "source": [
    "train_loss_list = []\n",
    "val_loss_list = []\n",
    "train_iou_list = []\n",
    "val_iou_list = []\n",
    "\n",
    "for epoch in range(epochs):\n",
    "    model.train()\n",
    "    train_loss = 0\n",
    "    train_iou = 0\n",
    "    train_sum_iou = 0\n",
    "\n",
    "    for image, mask in train_loader:\n",
    "        image = image.to(device)\n",
    "        mask = mask.to(device)\n",
    "        optimizer.zero_grad()\n",
    "        outputs = model(image.float())\n",
    "        # outputs = outputs.permute(0, 2, 3, 1)\n",
    "        # outputs = outputs.reshape(batch_size*IMG_HEIGHT*IMG_WIDTH, 2)\n",
    "        # mask = mask.reshape(batch_size*height_out*width_out)\n",
    "\n",
    "        loss = criterion(outputs.float(), mask.float())\n",
    "        train_loss += loss\n",
    "\n",
    "        train_iou += iou_metric(outputs, mask)\n",
    "        train_sum_iou += train_iou\n",
    "        rev_iou = 16 - iou_metric(outputs, mask)\n",
    "        loss += alpha * rev_iou\n",
    "\n",
    "        loss.backward()\n",
    "        optimizer.step()\n",
    "\n",
    "    model.eval()\n",
    "    with torch.no_grad():\n",
    "        valid_loss = 0\n",
    "        valid_iou = 0\n",
    "\n",
    "        for image_val, mask_val in valid_loader: \n",
    "            image_val = image_val.to(device)\n",
    "            mask_val = mask_val.to(device)\n",
    "            output_val = model(image_val.float())\n",
    "            valid_loss += criterion(output_val.float(), mask_val.float())\n",
    "            valid_iou += iou_metric(output_val, mask_val)\n",
    "\n",
    "    print(\"Epoch \", epoch + 1, \" Training Loss: \", train_loss/len(train_loader), \"Validation Loss: \", valid_loss/len(valid_loader))\n",
    "    print(\"Training IoU: \", train_iou/len(train_loader), \"Validation IoU: \", valid_iou/len(valid_loader))\n",
    "\n",
    "    # visualization\n",
    "    train_loss_list.append(train_loss/len(train_loader))\n",
    "    val_loss_list.append(valid_loss/len(valid_loader))\n",
    "    train_iou_list.append(train_iou/len(train_loader))\n",
    "    val_iou_list.append(valid_iou/len(valid_loader))\n",
    "    \n",
    "print(\"Mean IoU: \", train_sum_iou/epochs)"
   ]
  },
  {
   "cell_type": "markdown",
   "metadata": {
    "id": "CW2QqAnktrtl"
   },
   "source": [
    "Loss, IoU 값 시각화"
   ]
  },
  {
   "cell_type": "code",
   "execution_count": 32,
   "metadata": {
    "colab": {
     "base_uri": "https://localhost:8080/",
     "height": 404
    },
    "id": "ibcYp4QIuIjr",
    "outputId": "7eaed1d2-5b8e-47f6-a6a4-ce847d61a825"
   },
   "outputs": [
    {
     "data": {
      "image/png": "[encoded data removed]",
      "text/plain": [
       "<Figure size 1080x432 with 2 Axes>"
      ]
     },
     "metadata": {
      "needs_background": "light"
     },
     "output_type": "display_data"
    }
   ],
   "source": [
    "train_loss_data = [i.detach().cpu().numpy() for i in train_loss_list]\n",
    "val_loss_data = [i.detach().cpu().numpy() for i in val_loss_list]\n",
    "# train_iou_data = [i.detach().cpu().numpy() for i in train_iou_list]\n",
    "# val_iou_data = [i.detach().cpu().numpy() for i in val_iou_list]\n",
    "\n",
    "import matplotlib.pyplot as plt\n",
    "\n",
    "plt.figure(figsize=(15, 6)) \n",
    "plt.subplot(1,2,1)\n",
    "plt.title('loss')\n",
    "plt.xlabel('epoch')\n",
    "plt.plot(train_loss_data, 'b', label='train loss')\n",
    "plt.plot(val_loss_data, 'g', label='val loss')\n",
    "plt.legend(loc='upper right')\n",
    "\n",
    "plt.subplot(1,2,2)\n",
    "plt.title('iou')\n",
    "plt.xlabel('epoch')\n",
    "plt.plot(train_iou_list, 'b', label='train iou')\n",
    "plt.plot(val_iou_list, 'g', label='val iou')\n",
    "plt.legend(loc='upper right')\n",
    "\n",
    "plt.show()"
   ]
  },
  {
   "cell_type": "markdown",
   "metadata": {
    "id": "EctOx_ARuAeA"
   },
   "source": [
    "TEST 실제값, 예측값 시각화"
   ]
  },
  {
   "cell_type": "code",
   "execution_count": 33,
   "metadata": {
    "colab": {
     "base_uri": "https://localhost:8080/",
     "height": 203
    },
    "id": "h0-sEdHWuRXp",
    "outputId": "15ef39dc-f334-4776-9f08-5c090e664e50"
   },
   "outputs": [
    {
     "data": {
      "image/png": "[encoded data removed]",
      "text/plain": [
       "<Figure size 432x288 with 2 Axes>"
      ]
     },
     "metadata": {
      "needs_background": "light"
     },
     "output_type": "display_data"
    }
   ],
   "source": [
    "\"\"\" prediction / ground truth visualization \"\"\"\n",
    "for img_, mask_ in valid_loader:\n",
    "    img = img_[1].to(device)\n",
    "    img.unsqueeze_(0)\n",
    "    mask_pred = model(img.float())\n",
    "    mask_pred = mask_pred.cpu()\n",
    "    mask_pred = (mask_pred > 0.75)\n",
    "    mask_true = mask_[1]\n",
    "\n",
    "    img = TF.to_pil_image(mask_pred.float().squeeze(0))\n",
    "    mask = TF.to_pil_image(mask_true)\n",
    "\n",
    "    img = np.array(img)\n",
    "    mask = np.array(mask)\n",
    "\n",
    "    fig, (axis_1, axis_2) = plt.subplots(1, 2)\n",
    "    axis_1.imshow(img.astype(np.uint8), cmap='gray')\n",
    "    axis_2.imshow(mask.astype(np.uint8), cmap='gray')\n",
    "    plt.show()\n",
    "\n",
    "    break\n",
    "\n",
    "# PATH = 'unet-iou-cvc.pt'\n",
    "# torch.save(model.state_dict(), PATH)"
   ]
  },
  {
   "cell_type": "markdown",
   "metadata": {
    "id": "HT2XKin6Hyet"
   },
   "source": [
    "- - 아무런 Data Augmentation 기법 없이 진행되었을 때는 마지막 epoch에서 Train IoU가 0.57, Validation IoU가 0.45 정도입니다!\n",
    "- 실제값과 예측값을 시각화 해보았을 때, 조금의 학습만으로도 비슷한 위치에 있는 것을 확인할 수 있습니다.\n",
    "- 또한, 25 epoch까지 돌려보았을 때, 엄청 높은 IoU값을 가지고 있었습니다!"
   ]
  },
  {
   "cell_type": "markdown",
   "metadata": {
    "id": "qhTm5qJZpcCM"
   },
   "source": [
    "### **2) 논문 Data Augmentation 기법 적용 후 학습**\n",
    "\n",
    "- 다음은 앞서 얘기한 논문에서의 전처리 방법을 적용하였습니다.\n",
    "- Overlap-tile과 center_Crop 그리고 Elastic 변환 방법을 적용하였습니다."
   ]
  },
  {
   "cell_type": "markdown",
   "metadata": {
    "id": "jqiToQ_6oy5g"
   },
   "source": [
    "custom dataset인 ResUNETDataset class 정의"
   ]
  },
  {
   "cell_type": "code",
   "execution_count": 34,
   "metadata": {
    "id": "54NyY7x3tNzi"
   },
   "outputs": [],
   "source": [
    "class ResUNetDataset(Dataset):\n",
    "    def __init__(self, images_np, masks_np):\n",
    "        self.images_np = images_np\n",
    "        self.masks_np = masks_np\n",
    "    \n",
    "    def transform(self, image_np, mask_np):\n",
    "        ToPILImage = transforms.ToPILImage()\n",
    "        image = ToPILImage(image_np)\n",
    "        mask = ToPILImage(mask_np.astype(np.int32))\n",
    "        \n",
    "        image = TF.pad(image, padding = 20, padding_mode = 'reflect')\n",
    "        mask = TF.pad(mask, padding = 20, padding_mode = 'reflect')\n",
    "        \n",
    "        angle = random.uniform(-10, 10)\n",
    "        width, height = image.size\n",
    "        max_dx = 0.1 * width\n",
    "        max_dy = 0.1 * height\n",
    "        translations = (np.round(random.uniform(-max_dx, max_dx)), np.round(random.uniform(-max_dy, max_dy)))\n",
    "        scale = random.uniform(0.8, 1.2)\n",
    "        shear = random.uniform(-0.5, 0.5)\n",
    "        image = TF.affine(image, angle = angle, translate = translations, scale = scale, shear = shear)\n",
    "        mask = TF.affine(mask, angle = angle, translate = translations, scale = scale, shear = shear)\n",
    "        \n",
    "        image = TF.center_crop(image, (128, 128))\n",
    "        mask = TF.center_crop(mask, (128, 128))\n",
    "        \n",
    "        image = TF.to_tensor(image)\n",
    "        mask = TF.to_tensor(mask)\n",
    "        return image, mask\n",
    "        \n",
    "    def __len__(self):\n",
    "        return len(self.images_np)\n",
    "    \n",
    "    def __getitem__(self, idx):\n",
    "        image_np = self.images_np[idx]\n",
    "        mask_np = self.masks_np[idx]\n",
    "        image, mask = self.transform(image_np, mask_np)\n",
    "        \n",
    "        return image, mask"
   ]
  },
  {
   "cell_type": "markdown",
   "metadata": {
    "id": "q345E3u5o9nL"
   },
   "source": [
    "tensor로 변환된 데이터를 이용한 DataLoader 생성"
   ]
  },
  {
   "cell_type": "code",
   "execution_count": 37,
   "metadata": {
    "id": "Oa69kDhsekbV"
   },
   "outputs": [],
   "source": [
    "x_train = np.load(\"x_train.npy\")\n",
    "y_train = np.load(\"y_train.npy\")"
   ]
  },
  {
   "cell_type": "code",
   "execution_count": 38,
   "metadata": {
    "id": "1I0M41Dkenlr"
   },
   "outputs": [],
   "source": [
    "x_train, x_val, y_train, y_val = train_test_split(x_train, y_train, test_size=0.25)"
   ]
  },
  {
   "cell_type": "code",
   "execution_count": 39,
   "metadata": {
    "id": "njvQ2Yr2ta3c"
   },
   "outputs": [],
   "source": [
    "x_train, x_val, y_train, y_val = train_test_split(x_train, y_train, test_size=0.25)\n",
    "train_dataset = ResUNetDataset(x_train, y_train)\n",
    "train_loader = DataLoader(train_dataset, batch_size=16, shuffle=True)\n",
    "valid_dataset = ResUNetDataset(x_val, y_val)\n",
    "valid_loader = DataLoader(valid_dataset, batch_size=8, shuffle=False)"
   ]
  },
  {
   "cell_type": "markdown",
   "metadata": {
    "id": "LD9kTFOUqCV2"
   },
   "source": [
    "앞서 봤던 RPA-ResU-NET 정의"
   ]
  },
  {
   "cell_type": "code",
   "execution_count": 40,
   "metadata": {
    "id": "QpZs-g8K8CbK"
   },
   "outputs": [],
   "source": [
    "model2 = RPAResUNet(num_classes=1).to(device)"
   ]
  },
  {
   "cell_type": "markdown",
   "metadata": {
    "id": "2q20qwHsqLLK"
   },
   "source": [
    "parameter 정의"
   ]
  },
  {
   "cell_type": "code",
   "execution_count": 41,
   "metadata": {
    "id": "iSYWDq9R8Hq1"
   },
   "outputs": [],
   "source": [
    "epochs=5\n",
    "alpha=5\n",
    "batch_size = 16\n",
    "criterion=nn.BCEWithLogitsLoss()\n",
    "optimizer = optim.Adam(model2.parameters(), lr=1e-3)"
   ]
  },
  {
   "cell_type": "markdown",
   "metadata": {
    "id": "Y3OTXTieqQuI"
   },
   "source": [
    "Training"
   ]
  },
  {
   "cell_type": "code",
   "execution_count": 42,
   "metadata": {
    "colab": {
     "base_uri": "https://localhost:8080/"
    },
    "id": "ymrbo_h-8Neq",
    "outputId": "a496ce95-fd15-4695-9f0c-9890c49f89c0"
   },
   "outputs": [
    {
     "name": "stdout",
     "output_type": "stream",
     "text": [
      "Epoch  1  Training Loss:  tensor(0.7827, grad_fn=<DivBackward0>) Validation Loss:  tensor(0.7091)\n",
      "Training IoU:  0.23978430972173062 Validation IoU:  0.0074230353251716445\n",
      "Epoch  2  Training Loss:  tensor(0.7048, grad_fn=<DivBackward0>) Validation Loss:  tensor(0.7093)\n",
      "Training IoU:  0.4802778345702498 Validation IoU:  0.48476384040528797\n",
      "Epoch  3  Training Loss:  tensor(0.6759, grad_fn=<DivBackward0>) Validation Loss:  tensor(0.6672)\n",
      "Training IoU:  0.6216836370149273 Validation IoU:  0.44655095858695865\n",
      "Epoch  4  Training Loss:  tensor(0.6570, grad_fn=<DivBackward0>) Validation Loss:  tensor(0.6657)\n",
      "Training IoU:  0.6950840405781658 Validation IoU:  0.6866548913183509\n",
      "Epoch  5  Training Loss:  tensor(0.6572, grad_fn=<DivBackward0>) Validation Loss:  tensor(0.6805)\n",
      "Training IoU:  0.6813420615676375 Validation IoU:  0.6495490720934414\n",
      "Mean IoU:  41.5705592099958\n"
     ]
    }
   ],
   "source": [
    "train_loss_list = []\n",
    "val_loss_list = []\n",
    "train_iou_list = []\n",
    "val_iou_list = []\n",
    "\n",
    "for epoch in range(epochs):\n",
    "    model2.train()\n",
    "    train_loss = 0\n",
    "    train_iou = 0\n",
    "    train_sum_iou = 0\n",
    "\n",
    "    for image, mask in train_loader:\n",
    "        image = image.to(device)\n",
    "        mask = mask.to(device)\n",
    "        optimizer.zero_grad()\n",
    "        outputs = model2(image.float())\n",
    "        # outputs = outputs.permute(0, 2, 3, 1)\n",
    "        # outputs = outputs.reshape(batch_size*IMG_HEIGHT*IMG_WIDTH, 2)\n",
    "        # mask = mask.reshape(batch_size*height_out*width_out)\n",
    "\n",
    "        loss = criterion(outputs.float(), mask.float())\n",
    "        train_loss += loss\n",
    "\n",
    "        train_iou += iou_metric(outputs, mask)\n",
    "        train_sum_iou += train_iou\n",
    "        rev_iou = 16 - iou_metric(outputs, mask)\n",
    "        loss += alpha * rev_iou\n",
    "\n",
    "        loss.backward()\n",
    "        optimizer.step()\n",
    "\n",
    "    model2.eval()\n",
    "    with torch.no_grad():\n",
    "        valid_loss = 0\n",
    "        valid_iou = 0\n",
    "\n",
    "        for image_val, mask_val in valid_loader: \n",
    "            image_val = image_val.to(device)\n",
    "            mask_val = mask_val.to(device)\n",
    "            output_val = model2(image_val.float())\n",
    "            valid_loss += criterion(output_val.float(), mask_val.float())\n",
    "            valid_iou += iou_metric(output_val, mask_val)\n",
    "\n",
    "    print(\"Epoch \", epoch + 1, \" Training Loss: \", train_loss/len(train_loader), \"Validation Loss: \", valid_loss/len(valid_loader))\n",
    "    print(\"Training IoU: \", train_iou/len(train_loader), \"Validation IoU: \", valid_iou/len(valid_loader))\n",
    "\n",
    "    # visualization\n",
    "    train_loss_list.append(train_loss/len(train_loader))\n",
    "    val_loss_list.append(valid_loss/len(valid_loader))\n",
    "    train_iou_list.append(train_iou/len(train_loader))\n",
    "    val_iou_list.append(valid_iou/len(valid_loader))\n",
    "    \n",
    "print(\"Mean IoU: \", train_sum_iou/epochs)"
   ]
  },
  {
   "cell_type": "markdown",
   "metadata": {
    "id": "gsjJJTC8txLP"
   },
   "source": [
    "Loss, IoU 값 시각화"
   ]
  },
  {
   "cell_type": "code",
   "execution_count": 43,
   "metadata": {
    "colab": {
     "base_uri": "https://localhost:8080/",
     "height": 404
    },
    "id": "H_-VCHtjq7hv",
    "outputId": "b49f540d-64a8-4a45-b7d1-c4f5135500a1"
   },
   "outputs": [
    {
     "data": {
      "image/png": "[encoded data removed]",
      "text/plain": [
       "<Figure size 1080x432 with 2 Axes>"
      ]
     },
     "metadata": {
      "needs_background": "light"
     },
     "output_type": "display_data"
    }
   ],
   "source": [
    "train_loss_data = [i.detach().cpu().numpy() for i in train_loss_list]\n",
    "val_loss_data = [i.detach().cpu().numpy() for i in val_loss_list]\n",
    "# train_iou_data = [i.detach().cpu().numpy() for i in train_iou_list]\n",
    "# val_iou_data = [i.detach().cpu().numpy() for i in val_iou_list]\n",
    "\n",
    "import matplotlib.pyplot as plt\n",
    "\n",
    "plt.figure(figsize=(15, 6)) \n",
    "plt.subplot(1,2,1)\n",
    "plt.title('loss')\n",
    "plt.xlabel('epoch')\n",
    "plt.plot(train_loss_data, 'b', label='train loss')\n",
    "plt.plot(val_loss_data, 'g', label='val loss')\n",
    "plt.legend(loc='upper right')\n",
    "\n",
    "plt.subplot(1,2,2)\n",
    "plt.title('iou')\n",
    "plt.xlabel('epoch')\n",
    "plt.plot(train_iou_list, 'b', label='train iou')\n",
    "plt.plot(val_iou_list, 'g', label='val iou')\n",
    "plt.legend(loc='upper right')\n",
    "\n",
    "plt.show()"
   ]
  },
  {
   "cell_type": "markdown",
   "metadata": {
    "id": "TmXGsTBUuWNI"
   },
   "source": [
    "TEST 실제값, 예측값 시각화"
   ]
  },
  {
   "cell_type": "code",
   "execution_count": 44,
   "metadata": {
    "colab": {
     "base_uri": "https://localhost:8080/",
     "height": 203
    },
    "id": "Oi7xfRXAruVr",
    "outputId": "98e1f638-a443-4dcf-dc1b-e842c8301ec4"
   },
   "outputs": [
    {
     "data": {
      "image/png": "[encoded data removed]",
      "text/plain": [
       "<Figure size 432x288 with 2 Axes>"
      ]
     },
     "metadata": {
      "needs_background": "light"
     },
     "output_type": "display_data"
    }
   ],
   "source": [
    "\"\"\" prediction / ground truth visualization \"\"\"\n",
    "for img_, mask_ in valid_loader:\n",
    "    img = img_[1].to(device)\n",
    "    img.unsqueeze_(0)\n",
    "    mask_pred = model2(img.float())\n",
    "    mask_pred = mask_pred.cpu()\n",
    "    mask_pred = (mask_pred > 0.75)\n",
    "    mask_true = mask_[1]\n",
    "\n",
    "    img = TF.to_pil_image(mask_pred.float().squeeze(0))\n",
    "    mask = TF.to_pil_image(mask_true)\n",
    "\n",
    "    img = np.array(img)\n",
    "    mask = np.array(mask)\n",
    "\n",
    "    fig, (axis_1, axis_2) = plt.subplots(1, 2)\n",
    "    axis_1.imshow(img.astype(np.uint8), cmap='gray')\n",
    "    axis_2.imshow(mask.astype(np.uint8), cmap='gray')\n",
    "    plt.show()\n",
    "\n",
    "    break\n",
    "\n",
    "# PATH = 'unet-iou-cvc.pt'\n",
    "# torch.save(model.state_dict(), PATH)"
   ]
  },
  {
   "cell_type": "markdown",
   "metadata": {
    "id": "X7-Ou89RsDU4"
   },
   "source": [
    "- 논문과 동일한 Data Augmentation 기법을 적용하여 진행되었을 때는 마지막 epoch에서 Train IoU가 0.68, Validation IoU가 0.65 정도로 Augmentation을 적용하지 않았을 때와 비교하였을 때 비슷한 결과값을 얻었습니다. \n",
    "- 시각화해보니 자잘자잘한 노이즈 부분들이 잘 안나온 것을 확인할 수 있습니다."
   ]
  },
  {
   "cell_type": "markdown",
   "metadata": {
    "id": "nO3rRbThudDv"
   },
   "source": [
    "### 3) OpenCV Data Augmentation 기법 적용 후 학습\n",
    "- **Gaussian Blur 적용**\n",
    "앞선 게시글과 똑같은 기법을 적용하였습니다."
   ]
  },
  {
   "cell_type": "markdown",
   "metadata": {
    "id": "PttNZZOruq0X"
   },
   "source": [
    "custom dataset ResUNetDataset_Gaussian class 정의"
   ]
  },
  {
   "cell_type": "code",
   "execution_count": 45,
   "metadata": {
    "id": "93m1HF-bur_l"
   },
   "outputs": [],
   "source": [
    "class ResUNetDataset_Gaussian(Dataset):\n",
    "    def __init__(self, images_np, masks_np):\n",
    "        self.images_np = images_np\n",
    "        self.masks_np = masks_np\n",
    "    \n",
    "    def transform(self, image_np, mask_np):\n",
    "        ToPILImage = transforms.ToPILImage()\n",
    "        mask = ToPILImage(mask_np.astype(np.int32))\n",
    "              \n",
    "        kernel_size=(5,5)\n",
    "        image = cv2.GaussianBlur(image_np, kernel_size,0)\n",
    "        \n",
    "        image = TF.to_tensor(image)\n",
    "        mask = TF.to_tensor(mask)\n",
    "        return image, mask\n",
    "        \n",
    "    def __len__(self):\n",
    "        return len(self.images_np)\n",
    "    \n",
    "    def __getitem__(self, idx):\n",
    "        image_np = self.images_np[idx]\n",
    "        mask_np = self.masks_np[idx]\n",
    "        image, mask = self.transform(image_np, mask_np)\n",
    "        \n",
    "        return image, mask"
   ]
  },
  {
   "cell_type": "markdown",
   "metadata": {
    "id": "iOq7gBWqvlHJ"
   },
   "source": [
    "tensor로 변환된 데이터를 이용한 DataLoader 생성"
   ]
  },
  {
   "cell_type": "code",
   "execution_count": 48,
   "metadata": {
    "id": "-gAW3MzIiVQV"
   },
   "outputs": [],
   "source": [
    "x_train = np.load(\"x_train.npy\")\n",
    "y_train = np.load(\"y_train.npy\")"
   ]
  },
  {
   "cell_type": "code",
   "execution_count": 49,
   "metadata": {
    "id": "8Tli-y_oiXHJ"
   },
   "outputs": [],
   "source": [
    "x_train, x_val, y_train, y_val = train_test_split(x_train, y_train, test_size=0.25)"
   ]
  },
  {
   "cell_type": "code",
   "execution_count": 50,
   "metadata": {
    "id": "rs33W4COvlm6"
   },
   "outputs": [],
   "source": [
    "x_train, x_val, y_train, y_val = train_test_split(x_train, y_train, test_size=0.25)\n",
    "train_dataset = ResUNetDataset(x_train, y_train)\n",
    "train_loader = DataLoader(train_dataset, batch_size=16, shuffle=True)\n",
    "valid_dataset = ResUNetDataset(x_val, y_val)\n",
    "valid_loader = DataLoader(valid_dataset, batch_size=8, shuffle=False)"
   ]
  },
  {
   "cell_type": "markdown",
   "metadata": {
    "id": "erTIyJrvwSpj"
   },
   "source": [
    "앞서 봤던 RPA-ResU-NET 정의"
   ]
  },
  {
   "cell_type": "code",
   "execution_count": 51,
   "metadata": {
    "id": "SYnX4PtvvtEz"
   },
   "outputs": [],
   "source": [
    "model3 = RPAResUNet(num_classes=1).to(device)"
   ]
  },
  {
   "cell_type": "markdown",
   "metadata": {
    "id": "6-heUU8HwTln"
   },
   "source": [
    "parameter 정의"
   ]
  },
  {
   "cell_type": "code",
   "execution_count": 52,
   "metadata": {
    "id": "66qR7T3Kvxga"
   },
   "outputs": [],
   "source": [
    "epochs=5\n",
    "alpha=5\n",
    "batch_size = 16\n",
    "criterion=nn.BCEWithLogitsLoss()\n",
    "optimizer = optim.Adam(model3.parameters(), lr=1e-3)"
   ]
  },
  {
   "cell_type": "markdown",
   "metadata": {
    "id": "Us84D14NwVmZ"
   },
   "source": [
    "Train"
   ]
  },
  {
   "cell_type": "code",
   "execution_count": 53,
   "metadata": {
    "colab": {
     "base_uri": "https://localhost:8080/"
    },
    "id": "_mmkoTYDv1B3",
    "outputId": "f592097d-6fa6-4da4-dc00-43c936adec34"
   },
   "outputs": [
    {
     "name": "stdout",
     "output_type": "stream",
     "text": [
      "Epoch  1  Training Loss:  tensor(0.7832, grad_fn=<DivBackward0>) Validation Loss:  tensor(0.6953)\n",
      "Training IoU:  0.20142584844816866 Validation IoU:  0.008158082411875805\n",
      "Epoch  2  Training Loss:  tensor(0.7141, grad_fn=<DivBackward0>) Validation Loss:  tensor(0.6767)\n",
      "Training IoU:  0.41711462457422926 Validation IoU:  0.24286813001090315\n",
      "Epoch  3  Training Loss:  tensor(0.6880, grad_fn=<DivBackward0>) Validation Loss:  tensor(0.6646)\n",
      "Training IoU:  0.5189156964057254 Validation IoU:  0.5149638421464885\n",
      "Epoch  4  Training Loss:  tensor(0.6685, grad_fn=<DivBackward0>) Validation Loss:  tensor(0.6585)\n",
      "Training IoU:  0.6322802995584925 Validation IoU:  0.6807091236358505\n",
      "Epoch  5  Training Loss:  tensor(0.6589, grad_fn=<DivBackward0>) Validation Loss:  tensor(0.6536)\n",
      "Training IoU:  0.7074102247462908 Validation IoU:  0.6213597745337273\n",
      "Mean IoU:  42.0872092689886\n"
     ]
    }
   ],
   "source": [
    "train_loss_list = []\n",
    "val_loss_list = []\n",
    "train_iou_list = []\n",
    "val_iou_list = []\n",
    "\n",
    "for epoch in range(epochs):\n",
    "    model3.train()\n",
    "    train_loss = 0\n",
    "    train_iou = 0\n",
    "    train_sum_iou = 0\n",
    "\n",
    "    for image, mask in train_loader:\n",
    "        image = image.to(device)\n",
    "        mask = mask.to(device)\n",
    "        optimizer.zero_grad()\n",
    "        outputs = model3(image.float())\n",
    "        # outputs = outputs.permute(0, 2, 3, 1)\n",
    "        # outputs = outputs.reshape(batch_size*IMG_HEIGHT*IMG_WIDTH, 2)\n",
    "        # mask = mask.reshape(batch_size*height_out*width_out)\n",
    "\n",
    "        loss = criterion(outputs.float(), mask.float())\n",
    "        train_loss += loss\n",
    "\n",
    "        train_iou += iou_metric(outputs, mask)\n",
    "        train_sum_iou += train_iou\n",
    "        rev_iou = 16 - iou_metric(outputs, mask)\n",
    "        loss += alpha * rev_iou\n",
    "\n",
    "        loss.backward()\n",
    "        optimizer.step()\n",
    "\n",
    "    model3.eval()\n",
    "    with torch.no_grad():\n",
    "        valid_loss = 0\n",
    "        valid_iou = 0\n",
    "\n",
    "        for image_val, mask_val in valid_loader: \n",
    "            image_val = image_val.to(device)\n",
    "            mask_val = mask_val.to(device)\n",
    "            output_val = model3(image_val.float())\n",
    "            valid_loss += criterion(output_val.float(), mask_val.float())\n",
    "            valid_iou += iou_metric(output_val, mask_val)\n",
    "\n",
    "    print(\"Epoch \", epoch + 1, \" Training Loss: \", train_loss/len(train_loader), \"Validation Loss: \", valid_loss/len(valid_loader))\n",
    "    print(\"Training IoU: \", train_iou/len(train_loader), \"Validation IoU: \", valid_iou/len(valid_loader))\n",
    "\n",
    "    # visualization\n",
    "    train_loss_list.append(train_loss/len(train_loader))\n",
    "    val_loss_list.append(valid_loss/len(valid_loader))\n",
    "    train_iou_list.append(train_iou/len(train_loader))\n",
    "    val_iou_list.append(valid_iou/len(valid_loader))\n",
    "    \n",
    "print(\"Mean IoU: \", train_sum_iou/epochs)"
   ]
  },
  {
   "cell_type": "markdown",
   "metadata": {
    "id": "2r3WNUGuwda3"
   },
   "source": [
    "Loss, IoU 값 시각화"
   ]
  },
  {
   "cell_type": "code",
   "execution_count": 54,
   "metadata": {
    "colab": {
     "base_uri": "https://localhost:8080/",
     "height": 404
    },
    "id": "MGCXj29REvRT",
    "outputId": "977b02af-a3c4-411e-f431-d432ec11d7f4"
   },
   "outputs": [
    {
     "data": {
      "image/png": "[encoded data removed]",
      "text/plain": [
       "<Figure size 1080x432 with 2 Axes>"
      ]
     },
     "metadata": {
      "needs_background": "light"
     },
     "output_type": "display_data"
    }
   ],
   "source": [
    "train_loss_data = [i.detach().cpu().numpy() for i in train_loss_list]\n",
    "val_loss_data = [i.detach().cpu().numpy() for i in val_loss_list]\n",
    "# train_iou_data = [i.detach().cpu().numpy() for i in train_iou_list]\n",
    "# val_iou_data = [i.detach().cpu().numpy() for i in val_iou_list]\n",
    "\n",
    "import matplotlib.pyplot as plt\n",
    "\n",
    "plt.figure(figsize=(15, 6)) \n",
    "plt.subplot(1,2,1)\n",
    "plt.title('loss')\n",
    "plt.xlabel('epoch')\n",
    "plt.plot(train_loss_data, 'b', label='train loss')\n",
    "plt.plot(val_loss_data, 'g', label='val loss')\n",
    "plt.legend(loc='upper right')\n",
    "\n",
    "plt.subplot(1,2,2)\n",
    "plt.title('iou')\n",
    "plt.xlabel('epoch')\n",
    "plt.plot(train_iou_list, 'b', label='train iou')\n",
    "plt.plot(val_iou_list, 'g', label='val iou')\n",
    "plt.legend(loc='upper right')\n",
    "\n",
    "plt.show()"
   ]
  },
  {
   "cell_type": "markdown",
   "metadata": {
    "id": "hSnZqaGbwegI"
   },
   "source": [
    "Test 실제값, 예측값 시각화"
   ]
  },
  {
   "cell_type": "code",
   "execution_count": 55,
   "metadata": {
    "colab": {
     "base_uri": "https://localhost:8080/",
     "height": 203
    },
    "id": "C8UU7sd3wCKz",
    "outputId": "13f838d6-ff75-452f-c65c-958eedf9f5bd"
   },
   "outputs": [
    {
     "data": {
      "image/png": "[encoded data removed]",
      "text/plain": [
       "<Figure size 432x288 with 2 Axes>"
      ]
     },
     "metadata": {
      "needs_background": "light"
     },
     "output_type": "display_data"
    }
   ],
   "source": [
    "\"\"\" prediction / ground truth visualization \"\"\"\n",
    "for img_, mask_ in valid_loader:\n",
    "    img = img_[1].to(device)\n",
    "    img.unsqueeze_(0)\n",
    "    mask_pred = model3(img.float())\n",
    "    mask_pred = mask_pred.cpu()\n",
    "    mask_pred = (mask_pred > 0.75)\n",
    "    mask_true = mask_[1]\n",
    "\n",
    "    img = TF.to_pil_image(mask_pred.float().squeeze(0))\n",
    "    mask = TF.to_pil_image(mask_true)\n",
    "\n",
    "    img = np.array(img)\n",
    "    mask = np.array(mask)\n",
    "\n",
    "    fig, (axis_1, axis_2) = plt.subplots(1, 2)\n",
    "    axis_1.imshow(img.astype(np.uint8), cmap='gray')\n",
    "    axis_2.imshow(mask.astype(np.uint8), cmap='gray')\n",
    "    plt.show()\n",
    "\n",
    "    break\n",
    "\n",
    "# PATH = 'unet-iou-cvc.pt'\n",
    "# torch.save(model.state_dict(), PATH)"
   ]
  },
  {
   "cell_type": "markdown",
   "metadata": {},
   "source": [
    "- OpenCV Data Augmentation 기법을 적용하여 진행되었을 때는 마지막 epoch에서 Train IoU가 0.71, Validation IoU가 0.62 정도입니다.\n",
    "- 시각화 결과 음 징징이가 나온 것을 확인할 수 있습니다 ㅋㅋㅋ"
   ]
  },
  {
   "attachments": {},
   "cell_type": "markdown",
   "metadata": {
    "id": "TkAIYFC1GDy4"
   },
   "source": [
    "### 4) 결론\n",
    "<img src =\"https://drive.google.com/uc?export=view&id=1oBqi0lJ2xMgwu2SaDPgOZrrYKM6e3ICY\">\n",
    "\n",
    "- IoU값을 비교해서 표로 만들어본 결과입니다.\n",
    "- OpenCV를 적용하였을 때, Augmentation 기법을 적용하지 않았을 때보다 결과값이 좋습니다. 하지만 시각화 한 영상을 보면 전혀 그렇지 않아 보입니다. Epoch 값을 좀 더 올려서 확인해보면 좋을 것 같습니다.\n",
    "- 전체적인 결과를 비교해보면, U-Net 논문의 Augmentation의 결과값이 대체적으로 좋았다고 얘기할 수 있습니다.\n",
    "\n",
    "\n",
    "### [마무리]\n",
    "\n",
    "- 이렇게 세 가지 모형에 대하여 각각 동일한 Augmentation을 하여 결과값을 비교해 보았습니다!\n",
    "- 처음 이 프로젝트를 할 때는 굉장히 많은 고민을 했었는데, 저희는 위 과정에 어떻게 하면 OpenCV를 이용할 수 있을까? 이런 생각으로 게시글 작성을 했습니다!\n",
    "- OpenCV를 적용하는 과정, 모형을 학습시키는 과정, 데이터를 추출하는 과정에서 에러들이 많이 떴지만, 팀원들의 노력으로 무사히 게시글을 완성할 수 있었습니다!\n",
    "- 후기글로 찾아뵙겠습니다. 수고하셨습니다.\n",
    "\n",
    "# 감사합니다 ~:)"
   ]
  }
 ],
 "metadata": {
  "colab": {
   "collapsed_sections": [],
   "name": "RPAResU_Net.ipynb",
   "provenance": []
  },
  "kernelspec": {
   "display_name": "Python 3",
   "language": "python",
   "name": "python3"
  },
  "language_info": {
   "codemirror_mode": {
    "name": "ipython",
    "version": 3
   },
   "file_extension": ".py",
   "mimetype": "text/x-python",
   "name": "python",
   "nbconvert_exporter": "python",
   "pygments_lexer": "ipython3",
   "version": "3.8.5"
  }
 },
 "nbformat": 4,
 "nbformat_minor": 1
}
